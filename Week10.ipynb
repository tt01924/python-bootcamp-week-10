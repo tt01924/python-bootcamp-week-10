{
 "cells": [
  {
   "cell_type": "markdown",
   "id": "c261ac17-d1d5-4c9a-9795-34885a467f6b",
   "metadata": {},
   "source": [
    "# Virtual environments and requests module"
   ]
  },
  {
   "cell_type": "code",
   "execution_count": 3,
   "id": "18e90546-066a-44cc-b8a0-ae018a139783",
   "metadata": {},
   "outputs": [
    {
     "name": "stdout",
     "output_type": "stream",
     "text": [
      "<Response [200]>\n",
      "<class 'requests.models.Response'>\n"
     ]
    }
   ],
   "source": [
    "# sending a request and logging the response code\n",
    "\n",
    "import requests\n",
    "\n",
    "r = requests.get('https://api.github.com/users/Connor-SM')\n",
    "\n",
    "print(r)\n",
    "print(type(r))"
   ]
  },
  {
   "cell_type": "code",
   "execution_count": 5,
   "id": "589b9899-7858-465d-b5cb-142a9f12e88c",
   "metadata": {},
   "outputs": [
    {
     "name": "stdout",
     "output_type": "stream",
     "text": [
      "b'{\"login\":\"Connor-SM\",\"id\":20958711,\"node_id\":\"MDQ6VXNlcjIwOTU4NzEx\",\"avatar_url\":\"https://avatars.githubusercontent.com/u/20958711?v=4\",\"gravatar_id\":\"\",\"url\":\"https://api.github.com/users/Connor-SM\",\"html_url\":\"https://github.com/Connor-SM\",\"followers_url\":\"https://api.github.com/users/Connor-SM/followers\",\"following_url\":\"https://api.github.com/users/Connor-SM/following{/other_user}\",\"gists_url\":\"https://api.github.com/users/Connor-SM/gists{/gist_id}\",\"starred_url\":\"https://api.github.com/users/Connor-SM/starred{/owner}{/repo}\",\"subscriptions_url\":\"https://api.github.com/users/Connor-SM/subscriptions\",\"organizations_url\":\"https://api.github.com/users/Connor-SM/orgs\",\"repos_url\":\"https://api.github.com/users/Connor-SM/repos\",\"events_url\":\"https://api.github.com/users/Connor-SM/events{/privacy}\",\"received_events_url\":\"https://api.github.com/users/Connor-SM/received_events\",\"type\":\"User\",\"site_admin\":false,\"name\":\"Connor Milliken\",\"company\":\"HubSpot, Inc.\",\"blog\":\"www.connormilliken.com\",\"location\":\"Boston, MA\",\"email\":null,\"hireable\":null,\"bio\":\"- Author of Python Projects for Beginners\\\\r\\\\n\\\\r\\\\n- Python Instructor\\\\r\\\\n\\\\r\\\\n- Adventurer/Traveler\",\"twitter_username\":null,\"public_repos\":51,\"public_gists\":0,\"followers\":135,\"following\":36,\"created_at\":\"2016-08-10T22:39:46Z\",\"updated_at\":\"2022-02-03T01:35:00Z\"}'\n"
     ]
    }
   ],
   "source": [
    "# accessing the content that we request from the URL\n",
    "data = r.content\n",
    "print(data)"
   ]
  },
  {
   "cell_type": "code",
   "execution_count": 7,
   "id": "8d69fbb6-eb5a-4e4f-b4b7-b45a34f7d7a9",
   "metadata": {},
   "outputs": [
    {
     "name": "stdout",
     "output_type": "stream",
     "text": [
      "Key: login \t Value: Connor-SM\n",
      "Key: id \t Value: 20958711\n",
      "Key: node_id \t Value: MDQ6VXNlcjIwOTU4NzEx\n",
      "Key: avatar_url \t Value: https://avatars.githubusercontent.com/u/20958711?v=4\n",
      "Key: gravatar_id \t Value: \n",
      "Key: url \t Value: https://api.github.com/users/Connor-SM\n",
      "Key: html_url \t Value: https://github.com/Connor-SM\n",
      "Key: followers_url \t Value: https://api.github.com/users/Connor-SM/followers\n",
      "Key: following_url \t Value: https://api.github.com/users/Connor-SM/following{/other_user}\n",
      "Key: gists_url \t Value: https://api.github.com/users/Connor-SM/gists{/gist_id}\n",
      "Key: starred_url \t Value: https://api.github.com/users/Connor-SM/starred{/owner}{/repo}\n",
      "Key: subscriptions_url \t Value: https://api.github.com/users/Connor-SM/subscriptions\n",
      "Key: organizations_url \t Value: https://api.github.com/users/Connor-SM/orgs\n",
      "Key: repos_url \t Value: https://api.github.com/users/Connor-SM/repos\n",
      "Key: events_url \t Value: https://api.github.com/users/Connor-SM/events{/privacy}\n",
      "Key: received_events_url \t Value: https://api.github.com/users/Connor-SM/received_events\n",
      "Key: type \t Value: User\n",
      "Key: site_admin \t Value: False\n",
      "Key: name \t Value: Connor Milliken\n",
      "Key: company \t Value: HubSpot, Inc.\n",
      "Key: blog \t Value: www.connormilliken.com\n",
      "Key: location \t Value: Boston, MA\n",
      "Key: email \t Value: None\n",
      "Key: hireable \t Value: None\n",
      "Key: bio \t Value: - Author of Python Projects for Beginners\n",
      "\n",
      "- Python Instructor\n",
      "\n",
      "- Adventurer/Traveler\n",
      "Key: twitter_username \t Value: None\n",
      "Key: public_repos \t Value: 51\n",
      "Key: public_gists \t Value: 0\n",
      "Key: followers \t Value: 135\n",
      "Key: following \t Value: 36\n",
      "Key: created_at \t Value: 2016-08-10T22:39:46Z\n",
      "Key: updated_at \t Value: 2022-02-03T01:35:00Z\n",
      "Connor Milliken\n"
     ]
    }
   ],
   "source": [
    "# converting data from JSON into a python dictionary  and outputting all key-value pairs\n",
    "data = r.json() # converting the data from a string to a dictionary\n",
    "for k, v in data.items():\n",
    "    print('Key: {} \\t Value: {}'.format(k, v))\n",
    "\n",
    "print(data['name']) # accessing data directly"
   ]
  },
  {
   "cell_type": "code",
   "execution_count": 9,
   "id": "dfdf6b4f-3ee8-4ae1-a836-0c54d2551eb3",
   "metadata": {},
   "outputs": [
    {
     "name": "stdout",
     "output_type": "stream",
     "text": [
      "13689753\n"
     ]
    }
   ],
   "source": [
    "# outputting specific key-value pairs from data\n",
    "r = requests.get('https://api.github.com/search/repositories?q=language:python')\n",
    "data = r.json()\n",
    "print(data['total_count']) # output the total number of repositories that use python"
   ]
  },
  {
   "cell_type": "markdown",
   "id": "b36e44a6-5255-4848-8dee-255bf1bcfb73",
   "metadata": {},
   "source": [
    "## Pandas"
   ]
  },
  {
   "cell_type": "code",
   "execution_count": 12,
   "id": "0fc97ac7-9502-4b9d-804f-fe5a5f841bee",
   "metadata": {},
   "outputs": [],
   "source": [
    "# importing the pandas library\n",
    "import pandas as pd # industry standard name of pd when importing"
   ]
  },
  {
   "cell_type": "code",
   "execution_count": 20,
   "id": "72d776e1-bdc1-4b7d-9de7-3437472f106d",
   "metadata": {},
   "outputs": [
    {
     "name": "stdout",
     "output_type": "stream",
     "text": [
      "     names  ages\n",
      "0     Jess    25\n",
      "1   Jordan    35\n",
      "2    Sandy    22\n",
      "3      Ted    29\n",
      "4   Barney    33\n",
      "5    Tyler    20\n",
      "6  Rebecca    18\n"
     ]
    }
   ],
   "source": [
    "# using the from_dict method to convert a dictionary into a Pandas dataframe\n",
    "import random\n",
    "\n",
    "random.seed(3) # generate same random numbers every time, number used doesn't matter\n",
    "\n",
    "names = ['Jess', 'Jordan', 'Sandy', 'Ted', 'Barney', 'Tyler', 'Rebecca']\n",
    "ages = [random.randint(18, 35) for x in range(len(names))]\n",
    "\n",
    "people = {'names': names, 'ages': ages}\n",
    "\n",
    "df = pd.DataFrame.from_dict(people)\n",
    "print(df)"
   ]
  },
  {
   "cell_type": "code",
   "execution_count": 22,
   "id": "5caa1166-4f9f-4772-a47b-9858ea42279f",
   "metadata": {},
   "outputs": [
    {
     "name": "stdout",
     "output_type": "stream",
     "text": [
      "0    25\n",
      "1    35\n",
      "2    22\n",
      "3    29\n",
      "4    33\n",
      "5    20\n",
      "6    18\n",
      "Name: ages, dtype: int64\n",
      "29\n"
     ]
    }
   ],
   "source": [
    "# directly selecting a column in Pandas\n",
    "print(df['ages'])\n",
    "print(df['ages'][3]) # select the value of ages in the fourth row (0-index based)"
   ]
  },
  {
   "cell_type": "code",
   "execution_count": 24,
   "id": "ed098ec8-74ad-42d9-9c74-64bc71b6befc",
   "metadata": {},
   "outputs": [
    {
     "name": "stdout",
     "output_type": "stream",
     "text": [
      "names    Jess\n",
      "ages       25\n",
      "Name: 0, dtype: object\n",
      "Jess\n"
     ]
    }
   ],
   "source": [
    "# directly selecting a record in Pandas using .loc\n",
    "print(df.loc[0])\n",
    "print(df.loc[0]['names']) # selecting the value at record 0 in the 'names' column"
   ]
  },
  {
   "cell_type": "code",
   "execution_count": 26,
   "id": "6d9bd36b-aed4-407e-b44b-952d017299eb",
   "metadata": {},
   "outputs": [
    {
     "name": "stdout",
     "output_type": "stream",
     "text": [
      "    names  ages\n",
      "2   Sandy    22\n",
      "3     Ted    29\n",
      "4  Barney    33\n"
     ]
    }
   ],
   "source": [
    "# slicing a DataFrame to grab specific records\n",
    "print(df[2:5])"
   ]
  },
  {
   "cell_type": "code",
   "execution_count": 28,
   "id": "899f0906-4a49-4f82-b30f-045e01b6ce9f",
   "metadata": {},
   "outputs": [
    {
     "data": {
      "text/html": [
       "<div>\n",
       "<style scoped>\n",
       "    .dataframe tbody tr th:only-of-type {\n",
       "        vertical-align: middle;\n",
       "    }\n",
       "\n",
       "    .dataframe tbody tr th {\n",
       "        vertical-align: top;\n",
       "    }\n",
       "\n",
       "    .dataframe thead th {\n",
       "        text-align: right;\n",
       "    }\n",
       "</style>\n",
       "<table border=\"1\" class=\"dataframe\">\n",
       "  <thead>\n",
       "    <tr style=\"text-align: right;\">\n",
       "      <th></th>\n",
       "      <th>names</th>\n",
       "      <th>ages</th>\n",
       "    </tr>\n",
       "  </thead>\n",
       "  <tbody>\n",
       "    <tr>\n",
       "      <th>0</th>\n",
       "      <td>Jess</td>\n",
       "      <td>25</td>\n",
       "    </tr>\n",
       "    <tr>\n",
       "      <th>1</th>\n",
       "      <td>Jordan</td>\n",
       "      <td>35</td>\n",
       "    </tr>\n",
       "    <tr>\n",
       "      <th>2</th>\n",
       "      <td>Sandy</td>\n",
       "      <td>22</td>\n",
       "    </tr>\n",
       "    <tr>\n",
       "      <th>3</th>\n",
       "      <td>Ted</td>\n",
       "      <td>29</td>\n",
       "    </tr>\n",
       "    <tr>\n",
       "      <th>4</th>\n",
       "      <td>Barney</td>\n",
       "      <td>33</td>\n",
       "    </tr>\n",
       "  </tbody>\n",
       "</table>\n",
       "</div>"
      ],
      "text/plain": [
       "    names  ages\n",
       "0    Jess    25\n",
       "1  Jordan    35\n",
       "2   Sandy    22\n",
       "3     Ted    29\n",
       "4  Barney    33"
      ]
     },
     "execution_count": 28,
     "metadata": {},
     "output_type": "execute_result"
    }
   ],
   "source": [
    "# accessing the top 5 records using .head()\n",
    "df.head(5)"
   ]
  },
  {
   "cell_type": "code",
   "execution_count": 30,
   "id": "c84b67b4-b96f-49a0-8ef0-e66b44757c4c",
   "metadata": {},
   "outputs": [
    {
     "data": {
      "text/html": [
       "<div>\n",
       "<style scoped>\n",
       "    .dataframe tbody tr th:only-of-type {\n",
       "        vertical-align: middle;\n",
       "    }\n",
       "\n",
       "    .dataframe tbody tr th {\n",
       "        vertical-align: top;\n",
       "    }\n",
       "\n",
       "    .dataframe thead th {\n",
       "        text-align: right;\n",
       "    }\n",
       "</style>\n",
       "<table border=\"1\" class=\"dataframe\">\n",
       "  <thead>\n",
       "    <tr style=\"text-align: right;\">\n",
       "      <th></th>\n",
       "      <th>names</th>\n",
       "      <th>ages</th>\n",
       "    </tr>\n",
       "  </thead>\n",
       "  <tbody>\n",
       "    <tr>\n",
       "      <th>4</th>\n",
       "      <td>Barney</td>\n",
       "      <td>33</td>\n",
       "    </tr>\n",
       "    <tr>\n",
       "      <th>5</th>\n",
       "      <td>Tyler</td>\n",
       "      <td>20</td>\n",
       "    </tr>\n",
       "    <tr>\n",
       "      <th>6</th>\n",
       "      <td>Rebecca</td>\n",
       "      <td>18</td>\n",
       "    </tr>\n",
       "  </tbody>\n",
       "</table>\n",
       "</div>"
      ],
      "text/plain": [
       "     names  ages\n",
       "4   Barney    33\n",
       "5    Tyler    20\n",
       "6  Rebecca    18"
      ]
     },
     "execution_count": 30,
     "metadata": {},
     "output_type": "execute_result"
    }
   ],
   "source": [
    "# accessing the bottom 3 records using .tail()\n",
    "df.tail(3)"
   ]
  },
  {
   "cell_type": "code",
   "execution_count": 32,
   "id": "d1672203-ef85-411f-b60e-e37de0590a4a",
   "metadata": {},
   "outputs": [
    {
     "name": "stdout",
     "output_type": "stream",
     "text": [
      "Index(['names', 'ages'], dtype='object')\n"
     ]
    }
   ],
   "source": [
    "# accessing the column headers (keys) using the .keys() method\n",
    "headers = df.keys()\n",
    "print(headers)"
   ]
  },
  {
   "cell_type": "code",
   "execution_count": 34,
   "id": "2fd8d800-aa03-4410-ad06-b9c72c2f4d8d",
   "metadata": {},
   "outputs": [
    {
     "name": "stdout",
     "output_type": "stream",
     "text": [
      "(7, 2)\n"
     ]
    }
   ],
   "source": [
    "# checking the number of records and columns\n",
    "print(df.shape)"
   ]
  },
  {
   "cell_type": "code",
   "execution_count": 36,
   "id": "9af83984-d7bb-4874-acb5-6df34b3e710c",
   "metadata": {},
   "outputs": [
    {
     "data": {
      "text/plain": [
       "<bound method NDFrame.describe of      names  ages\n",
       "0     Jess    25\n",
       "1   Jordan    35\n",
       "2    Sandy    22\n",
       "3      Ted    29\n",
       "4   Barney    33\n",
       "5    Tyler    20\n",
       "6  Rebecca    18>"
      ]
     },
     "execution_count": 36,
     "metadata": {},
     "output_type": "execute_result"
    }
   ],
   "source": [
    "# checking the general stats of the DataFrame, only works on numerical columns\n",
    "df.describe"
   ]
  },
  {
   "cell_type": "code",
   "execution_count": 38,
   "id": "a886efb0-82bd-4d65-8ed8-4c784c8ecc37",
   "metadata": {},
   "outputs": [
    {
     "data": {
      "text/html": [
       "<div>\n",
       "<style scoped>\n",
       "    .dataframe tbody tr th:only-of-type {\n",
       "        vertical-align: middle;\n",
       "    }\n",
       "\n",
       "    .dataframe tbody tr th {\n",
       "        vertical-align: top;\n",
       "    }\n",
       "\n",
       "    .dataframe thead th {\n",
       "        text-align: right;\n",
       "    }\n",
       "</style>\n",
       "<table border=\"1\" class=\"dataframe\">\n",
       "  <thead>\n",
       "    <tr style=\"text-align: right;\">\n",
       "      <th></th>\n",
       "      <th>names</th>\n",
       "      <th>ages</th>\n",
       "    </tr>\n",
       "  </thead>\n",
       "  <tbody>\n",
       "    <tr>\n",
       "      <th>6</th>\n",
       "      <td>Rebecca</td>\n",
       "      <td>18</td>\n",
       "    </tr>\n",
       "    <tr>\n",
       "      <th>5</th>\n",
       "      <td>Tyler</td>\n",
       "      <td>20</td>\n",
       "    </tr>\n",
       "    <tr>\n",
       "      <th>2</th>\n",
       "      <td>Sandy</td>\n",
       "      <td>22</td>\n",
       "    </tr>\n",
       "    <tr>\n",
       "      <th>0</th>\n",
       "      <td>Jess</td>\n",
       "      <td>25</td>\n",
       "    </tr>\n",
       "    <tr>\n",
       "      <th>3</th>\n",
       "      <td>Ted</td>\n",
       "      <td>29</td>\n",
       "    </tr>\n",
       "  </tbody>\n",
       "</table>\n",
       "</div>"
      ],
      "text/plain": [
       "     names  ages\n",
       "6  Rebecca    18\n",
       "5    Tyler    20\n",
       "2    Sandy    22\n",
       "0     Jess    25\n",
       "3      Ted    29"
      ]
     },
     "execution_count": 38,
     "metadata": {},
     "output_type": "execute_result"
    }
   ],
   "source": [
    "# sort based on a column, but keep the DataFrame in tact\n",
    "df = df.sort_values('ages')\n",
    "df.head(5)"
   ]
  },
  {
   "cell_type": "code",
   "execution_count": 40,
   "id": "e5691bea-eb60-44e0-a9d5-86dc2555b390",
   "metadata": {},
   "outputs": [
    {
     "name": "stdout",
     "output_type": "stream",
     "text": [
      "6    False\n",
      "5    False\n",
      "2     True\n",
      "0     True\n",
      "3     True\n",
      "4     True\n",
      "1     True\n",
      "Name: ages, dtype: bool\n"
     ]
    }
   ],
   "source": [
    "# using a conditional to create a true/false column to work with \n",
    "can_drink = df['ages'] > 21\n",
    "print(can_drink)"
   ]
  },
  {
   "cell_type": "code",
   "execution_count": 42,
   "id": "9b9613d7-610e-4b0f-972a-aba8d04425d3",
   "metadata": {},
   "outputs": [
    {
     "data": {
      "text/html": [
       "<div>\n",
       "<style scoped>\n",
       "    .dataframe tbody tr th:only-of-type {\n",
       "        vertical-align: middle;\n",
       "    }\n",
       "\n",
       "    .dataframe tbody tr th {\n",
       "        vertical-align: top;\n",
       "    }\n",
       "\n",
       "    .dataframe thead th {\n",
       "        text-align: right;\n",
       "    }\n",
       "</style>\n",
       "<table border=\"1\" class=\"dataframe\">\n",
       "  <thead>\n",
       "    <tr style=\"text-align: right;\">\n",
       "      <th></th>\n",
       "      <th>names</th>\n",
       "      <th>ages</th>\n",
       "    </tr>\n",
       "  </thead>\n",
       "  <tbody>\n",
       "    <tr>\n",
       "      <th>2</th>\n",
       "      <td>Sandy</td>\n",
       "      <td>22</td>\n",
       "    </tr>\n",
       "    <tr>\n",
       "      <th>0</th>\n",
       "      <td>Jess</td>\n",
       "      <td>25</td>\n",
       "    </tr>\n",
       "    <tr>\n",
       "      <th>3</th>\n",
       "      <td>Ted</td>\n",
       "      <td>29</td>\n",
       "    </tr>\n",
       "    <tr>\n",
       "      <th>4</th>\n",
       "      <td>Barney</td>\n",
       "      <td>33</td>\n",
       "    </tr>\n",
       "    <tr>\n",
       "      <th>1</th>\n",
       "      <td>Jordan</td>\n",
       "      <td>35</td>\n",
       "    </tr>\n",
       "  </tbody>\n",
       "</table>\n",
       "</div>"
      ],
      "text/plain": [
       "    names  ages\n",
       "2   Sandy    22\n",
       "0    Jess    25\n",
       "3     Ted    29\n",
       "4  Barney    33\n",
       "1  Jordan    35"
      ]
     },
     "execution_count": 42,
     "metadata": {},
     "output_type": "execute_result"
    }
   ],
   "source": [
    "# using subset to filter out records and keep dataframe intact\n",
    "df[ df['ages'] > 21]"
   ]
  },
  {
   "cell_type": "code",
   "execution_count": 44,
   "id": "e7c53bd2-ea36-45c4-a6d3-62d66579f8a1",
   "metadata": {},
   "outputs": [
    {
     "data": {
      "text/html": [
       "<div>\n",
       "<style scoped>\n",
       "    .dataframe tbody tr th:only-of-type {\n",
       "        vertical-align: middle;\n",
       "    }\n",
       "\n",
       "    .dataframe tbody tr th {\n",
       "        vertical-align: top;\n",
       "    }\n",
       "\n",
       "    .dataframe thead th {\n",
       "        text-align: right;\n",
       "    }\n",
       "</style>\n",
       "<table border=\"1\" class=\"dataframe\">\n",
       "  <thead>\n",
       "    <tr style=\"text-align: right;\">\n",
       "      <th></th>\n",
       "      <th>names</th>\n",
       "      <th>ages</th>\n",
       "      <th>tenure</th>\n",
       "    </tr>\n",
       "  </thead>\n",
       "  <tbody>\n",
       "    <tr>\n",
       "      <th>6</th>\n",
       "      <td>Rebecca</td>\n",
       "      <td>18</td>\n",
       "      <td>4</td>\n",
       "    </tr>\n",
       "    <tr>\n",
       "      <th>5</th>\n",
       "      <td>Tyler</td>\n",
       "      <td>20</td>\n",
       "      <td>6</td>\n",
       "    </tr>\n",
       "    <tr>\n",
       "      <th>2</th>\n",
       "      <td>Sandy</td>\n",
       "      <td>22</td>\n",
       "      <td>2</td>\n",
       "    </tr>\n",
       "    <tr>\n",
       "      <th>0</th>\n",
       "      <td>Jess</td>\n",
       "      <td>25</td>\n",
       "      <td>5</td>\n",
       "    </tr>\n",
       "    <tr>\n",
       "      <th>3</th>\n",
       "      <td>Ted</td>\n",
       "      <td>29</td>\n",
       "      <td>8</td>\n",
       "    </tr>\n",
       "  </tbody>\n",
       "</table>\n",
       "</div>"
      ],
      "text/plain": [
       "     names  ages  tenure\n",
       "6  Rebecca    18       4\n",
       "5    Tyler    20       6\n",
       "2    Sandy    22       2\n",
       "0     Jess    25       5\n",
       "3      Ted    29       8"
      ]
     },
     "execution_count": 44,
     "metadata": {},
     "output_type": "execute_result"
    }
   ],
   "source": [
    "# generating a new column of fake data for each record in the DataFrame to represent customer tenure\n",
    "random.seed(321)\n",
    "\n",
    "tenure = [random.randint(0, 10) for x in range(len(df))]\n",
    "\n",
    "df['tenure'] = tenure # same as adding a new key-value pair in a dictionary\n",
    "df.head()"
   ]
  },
  {
   "cell_type": "code",
   "execution_count": 46,
   "id": "c0cb5e33-e1da-423a-911d-5d882f1dc81f",
   "metadata": {},
   "outputs": [
    {
     "data": {
      "text/html": [
       "<div>\n",
       "<style scoped>\n",
       "    .dataframe tbody tr th:only-of-type {\n",
       "        vertical-align: middle;\n",
       "    }\n",
       "\n",
       "    .dataframe tbody tr th {\n",
       "        vertical-align: top;\n",
       "    }\n",
       "\n",
       "    .dataframe thead th {\n",
       "        text-align: right;\n",
       "    }\n",
       "</style>\n",
       "<table border=\"1\" class=\"dataframe\">\n",
       "  <thead>\n",
       "    <tr style=\"text-align: right;\">\n",
       "      <th></th>\n",
       "      <th>names</th>\n",
       "      <th>ages</th>\n",
       "      <th>tenure</th>\n",
       "      <th>age_group</th>\n",
       "    </tr>\n",
       "  </thead>\n",
       "  <tbody>\n",
       "    <tr>\n",
       "      <th>6</th>\n",
       "      <td>Rebecca</td>\n",
       "      <td>18</td>\n",
       "      <td>4</td>\n",
       "      <td>Teenager</td>\n",
       "    </tr>\n",
       "    <tr>\n",
       "      <th>5</th>\n",
       "      <td>Tyler</td>\n",
       "      <td>20</td>\n",
       "      <td>6</td>\n",
       "      <td>Teenager</td>\n",
       "    </tr>\n",
       "    <tr>\n",
       "      <th>2</th>\n",
       "      <td>Sandy</td>\n",
       "      <td>22</td>\n",
       "      <td>2</td>\n",
       "      <td>Adult</td>\n",
       "    </tr>\n",
       "    <tr>\n",
       "      <th>0</th>\n",
       "      <td>Jess</td>\n",
       "      <td>25</td>\n",
       "      <td>5</td>\n",
       "      <td>Adult</td>\n",
       "    </tr>\n",
       "    <tr>\n",
       "      <th>3</th>\n",
       "      <td>Ted</td>\n",
       "      <td>29</td>\n",
       "      <td>8</td>\n",
       "      <td>Adult</td>\n",
       "    </tr>\n",
       "    <tr>\n",
       "      <th>4</th>\n",
       "      <td>Barney</td>\n",
       "      <td>33</td>\n",
       "      <td>7</td>\n",
       "      <td>Adult</td>\n",
       "    </tr>\n",
       "    <tr>\n",
       "      <th>1</th>\n",
       "      <td>Jordan</td>\n",
       "      <td>35</td>\n",
       "      <td>5</td>\n",
       "      <td>Adult</td>\n",
       "    </tr>\n",
       "  </tbody>\n",
       "</table>\n",
       "</div>"
      ],
      "text/plain": [
       "     names  ages  tenure age_group\n",
       "6  Rebecca    18       4  Teenager\n",
       "5    Tyler    20       6  Teenager\n",
       "2    Sandy    22       2     Adult\n",
       "0     Jess    25       5     Adult\n",
       "3      Ted    29       8     Adult\n",
       "4   Barney    33       7     Adult\n",
       "1   Jordan    35       5     Adult"
      ]
     },
     "execution_count": 46,
     "metadata": {},
     "output_type": "execute_result"
    }
   ],
   "source": [
    "# feature engineering a new column from known data using a UDF\n",
    "def ageGroup(age):\n",
    "    return 'Teenager' if age < 21 else 'Adult'\n",
    "\n",
    "df['age_group'] = df['ages'].apply(ageGroup)\n",
    "df.head(10)"
   ]
  },
  {
   "cell_type": "code",
   "execution_count": 48,
   "id": "d67f51eb-dfc3-4715-8c98-c1f0caf2cf7b",
   "metadata": {},
   "outputs": [
    {
     "data": {
      "text/html": [
       "<div>\n",
       "<style scoped>\n",
       "    .dataframe tbody tr th:only-of-type {\n",
       "        vertical-align: middle;\n",
       "    }\n",
       "\n",
       "    .dataframe tbody tr th {\n",
       "        vertical-align: top;\n",
       "    }\n",
       "\n",
       "    .dataframe thead th {\n",
       "        text-align: right;\n",
       "    }\n",
       "</style>\n",
       "<table border=\"1\" class=\"dataframe\">\n",
       "  <thead>\n",
       "    <tr style=\"text-align: right;\">\n",
       "      <th></th>\n",
       "      <th>age_group</th>\n",
       "      <th>names</th>\n",
       "      <th>ages</th>\n",
       "      <th>tenure</th>\n",
       "    </tr>\n",
       "  </thead>\n",
       "  <tbody>\n",
       "    <tr>\n",
       "      <th>0</th>\n",
       "      <td>Adult</td>\n",
       "      <td>5</td>\n",
       "      <td>5</td>\n",
       "      <td>5</td>\n",
       "    </tr>\n",
       "    <tr>\n",
       "      <th>1</th>\n",
       "      <td>Teenager</td>\n",
       "      <td>2</td>\n",
       "      <td>2</td>\n",
       "      <td>2</td>\n",
       "    </tr>\n",
       "  </tbody>\n",
       "</table>\n",
       "</div>"
      ],
      "text/plain": [
       "  age_group  names  ages  tenure\n",
       "0     Adult      5     5       5\n",
       "1  Teenager      2     2       2"
      ]
     },
     "execution_count": 48,
     "metadata": {},
     "output_type": "execute_result"
    }
   ],
   "source": [
    "# grouping the records together to count how many records in each  group\n",
    "df.groupby('age_group', as_index=False).count().head()"
   ]
  },
  {
   "cell_type": "code",
   "execution_count": 58,
   "id": "5e0707d2-f5ed-454c-afd6-ccadb72e6863",
   "metadata": {},
   "outputs": [
    {
     "data": {
      "text/html": [
       "<div>\n",
       "<style scoped>\n",
       "    .dataframe tbody tr th:only-of-type {\n",
       "        vertical-align: middle;\n",
       "    }\n",
       "\n",
       "    .dataframe tbody tr th {\n",
       "        vertical-align: top;\n",
       "    }\n",
       "\n",
       "    .dataframe thead th {\n",
       "        text-align: right;\n",
       "    }\n",
       "</style>\n",
       "<table border=\"1\" class=\"dataframe\">\n",
       "  <thead>\n",
       "    <tr style=\"text-align: right;\">\n",
       "      <th></th>\n",
       "      <th>age_group</th>\n",
       "      <th>names</th>\n",
       "      <th>ages</th>\n",
       "      <th>tenure</th>\n",
       "    </tr>\n",
       "  </thead>\n",
       "  <tbody>\n",
       "    <tr>\n",
       "      <th>0</th>\n",
       "      <td>Adult</td>\n",
       "      <td>5</td>\n",
       "      <td>5</td>\n",
       "      <td>5</td>\n",
       "    </tr>\n",
       "    <tr>\n",
       "      <th>1</th>\n",
       "      <td>Teenager</td>\n",
       "      <td>2</td>\n",
       "      <td>2</td>\n",
       "      <td>2</td>\n",
       "    </tr>\n",
       "  </tbody>\n",
       "</table>\n",
       "</div>"
      ],
      "text/plain": [
       "  age_group  names  ages  tenure\n",
       "0     Adult      5     5       5\n",
       "1  Teenager      2     2       2"
      ]
     },
     "execution_count": 58,
     "metadata": {},
     "output_type": "execute_result"
    }
   ],
   "source": [
    "# grouping the data to see averages of all columns\n",
    "df.groupby('age_group', as_index=False).count().head()"
   ]
  },
  {
   "cell_type": "code",
   "execution_count": 62,
   "id": "23e2aa92-0b5b-4d57-a01e-60a578b929b3",
   "metadata": {},
   "outputs": [
    {
     "data": {
      "text/html": [
       "<div>\n",
       "<style scoped>\n",
       "    .dataframe tbody tr th:only-of-type {\n",
       "        vertical-align: middle;\n",
       "    }\n",
       "\n",
       "    .dataframe tbody tr th {\n",
       "        vertical-align: top;\n",
       "    }\n",
       "\n",
       "    .dataframe thead th {\n",
       "        text-align: right;\n",
       "    }\n",
       "</style>\n",
       "<table border=\"1\" class=\"dataframe\">\n",
       "  <thead>\n",
       "    <tr style=\"text-align: right;\">\n",
       "      <th></th>\n",
       "      <th>names</th>\n",
       "      <th>ages</th>\n",
       "      <th>tenure</th>\n",
       "      <th>age_group</th>\n",
       "    </tr>\n",
       "  </thead>\n",
       "  <tbody>\n",
       "    <tr>\n",
       "      <th>6</th>\n",
       "      <td>Rebecca</td>\n",
       "      <td>18</td>\n",
       "      <td>4</td>\n",
       "      <td>Teenager</td>\n",
       "    </tr>\n",
       "    <tr>\n",
       "      <th>5</th>\n",
       "      <td>Tyler</td>\n",
       "      <td>20</td>\n",
       "      <td>6</td>\n",
       "      <td>Teenager</td>\n",
       "    </tr>\n",
       "    <tr>\n",
       "      <th>2</th>\n",
       "      <td>Sandy</td>\n",
       "      <td>22</td>\n",
       "      <td>2</td>\n",
       "      <td>Adult</td>\n",
       "    </tr>\n",
       "    <tr>\n",
       "      <th>0</th>\n",
       "      <td>Jess</td>\n",
       "      <td>25</td>\n",
       "      <td>5</td>\n",
       "      <td>Adult</td>\n",
       "    </tr>\n",
       "    <tr>\n",
       "      <th>3</th>\n",
       "      <td>Ted</td>\n",
       "      <td>29</td>\n",
       "      <td>8</td>\n",
       "      <td>Adult</td>\n",
       "    </tr>\n",
       "    <tr>\n",
       "      <th>4</th>\n",
       "      <td>Barney</td>\n",
       "      <td>33</td>\n",
       "      <td>7</td>\n",
       "      <td>Adult</td>\n",
       "    </tr>\n",
       "    <tr>\n",
       "      <th>1</th>\n",
       "      <td>Jordan</td>\n",
       "      <td>35</td>\n",
       "      <td>5</td>\n",
       "      <td>Adult</td>\n",
       "    </tr>\n",
       "    <tr>\n",
       "      <th>7</th>\n",
       "      <td>Jess</td>\n",
       "      <td>25</td>\n",
       "      <td>2</td>\n",
       "      <td>Adult</td>\n",
       "    </tr>\n",
       "  </tbody>\n",
       "</table>\n",
       "</div>"
      ],
      "text/plain": [
       "     names ages  tenure age_group\n",
       "6  Rebecca   18       4  Teenager\n",
       "5    Tyler   20       6  Teenager\n",
       "2    Sandy   22       2     Adult\n",
       "0     Jess   25       5     Adult\n",
       "3      Ted   29       8     Adult\n",
       "4   Barney   33       7     Adult\n",
       "1   Jordan   35       5     Adult\n",
       "7     Jess   25       2     Adult"
      ]
     },
     "execution_count": 62,
     "metadata": {},
     "output_type": "execute_result"
    }
   ],
   "source": [
    "# adding a record to the bottom of the DataFrame\n",
    "df.loc[7] = ['Jess', 25, 2, 'Adult'] # add a record\n",
    "df.head(10)"
   ]
  },
  {
   "cell_type": "code",
   "execution_count": 64,
   "id": "0c22cdc5-b6b0-4daa-a612-6b01a08ecdcf",
   "metadata": {},
   "outputs": [
    {
     "data": {
      "text/html": [
       "<div>\n",
       "<style scoped>\n",
       "    .dataframe tbody tr th:only-of-type {\n",
       "        vertical-align: middle;\n",
       "    }\n",
       "\n",
       "    .dataframe tbody tr th {\n",
       "        vertical-align: top;\n",
       "    }\n",
       "\n",
       "    .dataframe thead th {\n",
       "        text-align: right;\n",
       "    }\n",
       "</style>\n",
       "<table border=\"1\" class=\"dataframe\">\n",
       "  <thead>\n",
       "    <tr style=\"text-align: right;\">\n",
       "      <th></th>\n",
       "      <th>names</th>\n",
       "      <th>ages</th>\n",
       "      <th>tenure</th>\n",
       "      <th>age_group</th>\n",
       "    </tr>\n",
       "  </thead>\n",
       "  <tbody>\n",
       "    <tr>\n",
       "      <th>6</th>\n",
       "      <td>Rebecca</td>\n",
       "      <td>18</td>\n",
       "      <td>4</td>\n",
       "      <td>Teenager</td>\n",
       "    </tr>\n",
       "    <tr>\n",
       "      <th>5</th>\n",
       "      <td>Tyler</td>\n",
       "      <td>20</td>\n",
       "      <td>6</td>\n",
       "      <td>Teenager</td>\n",
       "    </tr>\n",
       "    <tr>\n",
       "      <th>2</th>\n",
       "      <td>Sandy</td>\n",
       "      <td>22</td>\n",
       "      <td>2</td>\n",
       "      <td>Adult</td>\n",
       "    </tr>\n",
       "    <tr>\n",
       "      <th>0</th>\n",
       "      <td>Jess</td>\n",
       "      <td>25</td>\n",
       "      <td>5</td>\n",
       "      <td>Adult</td>\n",
       "    </tr>\n",
       "    <tr>\n",
       "      <th>3</th>\n",
       "      <td>Ted</td>\n",
       "      <td>29</td>\n",
       "      <td>8</td>\n",
       "      <td>Adult</td>\n",
       "    </tr>\n",
       "    <tr>\n",
       "      <th>4</th>\n",
       "      <td>Barney</td>\n",
       "      <td>33</td>\n",
       "      <td>7</td>\n",
       "      <td>Adult</td>\n",
       "    </tr>\n",
       "    <tr>\n",
       "      <th>1</th>\n",
       "      <td>Jordan</td>\n",
       "      <td>35</td>\n",
       "      <td>5</td>\n",
       "      <td>Adult</td>\n",
       "    </tr>\n",
       "  </tbody>\n",
       "</table>\n",
       "</div>"
      ],
      "text/plain": [
       "     names ages  tenure age_group\n",
       "6  Rebecca   18       4  Teenager\n",
       "5    Tyler   20       6  Teenager\n",
       "2    Sandy   22       2     Adult\n",
       "0     Jess   25       5     Adult\n",
       "3      Ted   29       8     Adult\n",
       "4   Barney   33       7     Adult\n",
       "1   Jordan   35       5     Adult"
      ]
     },
     "execution_count": 64,
     "metadata": {},
     "output_type": "execute_result"
    }
   ],
   "source": [
    "# remove duplicates based on same names\n",
    "df = df.drop_duplicates(subset='names')\n",
    "df.head(8)"
   ]
  },
  {
   "cell_type": "code",
   "execution_count": 66,
   "id": "3d7fdb41-58a5-436f-af69-a59b4e0954fb",
   "metadata": {},
   "outputs": [
    {
     "data": {
      "text/html": [
       "<div>\n",
       "<style scoped>\n",
       "    .dataframe tbody tr th:only-of-type {\n",
       "        vertical-align: middle;\n",
       "    }\n",
       "\n",
       "    .dataframe tbody tr th {\n",
       "        vertical-align: top;\n",
       "    }\n",
       "\n",
       "    .dataframe thead th {\n",
       "        text-align: right;\n",
       "    }\n",
       "</style>\n",
       "<table border=\"1\" class=\"dataframe\">\n",
       "  <thead>\n",
       "    <tr style=\"text-align: right;\">\n",
       "      <th></th>\n",
       "      <th>names</th>\n",
       "      <th>ratings</th>\n",
       "    </tr>\n",
       "  </thead>\n",
       "  <tbody>\n",
       "    <tr>\n",
       "      <th>0</th>\n",
       "      <td>Jess</td>\n",
       "      <td>10</td>\n",
       "    </tr>\n",
       "    <tr>\n",
       "      <th>1</th>\n",
       "      <td>Tyler</td>\n",
       "      <td>9</td>\n",
       "    </tr>\n",
       "    <tr>\n",
       "      <th>2</th>\n",
       "      <td>Ted</td>\n",
       "      <td>6</td>\n",
       "    </tr>\n",
       "  </tbody>\n",
       "</table>\n",
       "</div>"
      ],
      "text/plain": [
       "   names  ratings\n",
       "0   Jess       10\n",
       "1  Tyler        9\n",
       "2    Ted        6"
      ]
     },
     "execution_count": 66,
     "metadata": {},
     "output_type": "execute_result"
    }
   ],
   "source": [
    "# creating another fake DataFrame to work with, having same names and a new ratings column\n",
    "ratings = {\n",
    "    'names': ['Jess', 'Tyler', 'Ted'],\n",
    "    'ratings': [10, 9, 6]\n",
    "}\n",
    "ratings = df.from_dict(ratings)\n",
    "ratings.head()"
   ]
  },
  {
   "cell_type": "code",
   "execution_count": 68,
   "id": "8998a5bc-6dd5-470a-be73-25cfbee595eb",
   "metadata": {},
   "outputs": [
    {
     "data": {
      "text/html": [
       "<div>\n",
       "<style scoped>\n",
       "    .dataframe tbody tr th:only-of-type {\n",
       "        vertical-align: middle;\n",
       "    }\n",
       "\n",
       "    .dataframe tbody tr th {\n",
       "        vertical-align: top;\n",
       "    }\n",
       "\n",
       "    .dataframe thead th {\n",
       "        text-align: right;\n",
       "    }\n",
       "</style>\n",
       "<table border=\"1\" class=\"dataframe\">\n",
       "  <thead>\n",
       "    <tr style=\"text-align: right;\">\n",
       "      <th></th>\n",
       "      <th>names</th>\n",
       "      <th>ages</th>\n",
       "      <th>tenure</th>\n",
       "      <th>age_group</th>\n",
       "      <th>ratings</th>\n",
       "    </tr>\n",
       "  </thead>\n",
       "  <tbody>\n",
       "    <tr>\n",
       "      <th>0</th>\n",
       "      <td>Tyler</td>\n",
       "      <td>20</td>\n",
       "      <td>6</td>\n",
       "      <td>Teenager</td>\n",
       "      <td>9</td>\n",
       "    </tr>\n",
       "    <tr>\n",
       "      <th>1</th>\n",
       "      <td>Jess</td>\n",
       "      <td>25</td>\n",
       "      <td>5</td>\n",
       "      <td>Adult</td>\n",
       "      <td>10</td>\n",
       "    </tr>\n",
       "    <tr>\n",
       "      <th>2</th>\n",
       "      <td>Ted</td>\n",
       "      <td>29</td>\n",
       "      <td>8</td>\n",
       "      <td>Adult</td>\n",
       "      <td>6</td>\n",
       "    </tr>\n",
       "  </tbody>\n",
       "</table>\n",
       "</div>"
      ],
      "text/plain": [
       "   names ages  tenure age_group  ratings\n",
       "0  Tyler   20       6  Teenager        9\n",
       "1   Jess   25       5     Adult       10\n",
       "2    Ted   29       8     Adult        6"
      ]
     },
     "execution_count": 68,
     "metadata": {},
     "output_type": "execute_result"
    }
   ],
   "source": [
    "# performing an inner join with our df and ratings DataFrames based on names, get data that matches\n",
    "matched_ratings = df.merge(ratings, on='names', how='inner')\n",
    "matched_ratings.head()"
   ]
  },
  {
   "cell_type": "code",
   "execution_count": 72,
   "id": "b8cbf688-fe8c-44bb-a14c-108ea653f9b7",
   "metadata": {},
   "outputs": [
    {
     "data": {
      "text/html": [
       "<div>\n",
       "<style scoped>\n",
       "    .dataframe tbody tr th:only-of-type {\n",
       "        vertical-align: middle;\n",
       "    }\n",
       "\n",
       "    .dataframe tbody tr th {\n",
       "        vertical-align: top;\n",
       "    }\n",
       "\n",
       "    .dataframe thead th {\n",
       "        text-align: right;\n",
       "    }\n",
       "</style>\n",
       "<table border=\"1\" class=\"dataframe\">\n",
       "  <thead>\n",
       "    <tr style=\"text-align: right;\">\n",
       "      <th></th>\n",
       "      <th>names</th>\n",
       "      <th>ages</th>\n",
       "      <th>tenure</th>\n",
       "      <th>age_group</th>\n",
       "      <th>ratings</th>\n",
       "    </tr>\n",
       "  </thead>\n",
       "  <tbody>\n",
       "    <tr>\n",
       "      <th>0</th>\n",
       "      <td>Rebecca</td>\n",
       "      <td>18</td>\n",
       "      <td>4</td>\n",
       "      <td>Teenager</td>\n",
       "      <td>NaN</td>\n",
       "    </tr>\n",
       "    <tr>\n",
       "      <th>1</th>\n",
       "      <td>Tyler</td>\n",
       "      <td>20</td>\n",
       "      <td>6</td>\n",
       "      <td>Teenager</td>\n",
       "      <td>9.0</td>\n",
       "    </tr>\n",
       "    <tr>\n",
       "      <th>2</th>\n",
       "      <td>Sandy</td>\n",
       "      <td>22</td>\n",
       "      <td>2</td>\n",
       "      <td>Adult</td>\n",
       "      <td>NaN</td>\n",
       "    </tr>\n",
       "    <tr>\n",
       "      <th>3</th>\n",
       "      <td>Jess</td>\n",
       "      <td>25</td>\n",
       "      <td>5</td>\n",
       "      <td>Adult</td>\n",
       "      <td>10.0</td>\n",
       "    </tr>\n",
       "    <tr>\n",
       "      <th>4</th>\n",
       "      <td>Ted</td>\n",
       "      <td>29</td>\n",
       "      <td>8</td>\n",
       "      <td>Adult</td>\n",
       "      <td>6.0</td>\n",
       "    </tr>\n",
       "  </tbody>\n",
       "</table>\n",
       "</div>"
      ],
      "text/plain": [
       "     names ages  tenure age_group  ratings\n",
       "0  Rebecca   18       4  Teenager      NaN\n",
       "1    Tyler   20       6  Teenager      9.0\n",
       "2    Sandy   22       2     Adult      NaN\n",
       "3     Jess   25       5     Adult     10.0\n",
       "4      Ted   29       8     Adult      6.0"
      ]
     },
     "execution_count": 72,
     "metadata": {},
     "output_type": "execute_result"
    }
   ],
   "source": [
    "# performing an outer join with our df and ratings DataFrames based on names, get all data\n",
    "all_ratings = df.merge(ratings, on='names', how='outer')\n",
    "all_ratings.head()"
   ]
  },
  {
   "cell_type": "markdown",
   "id": "262731ee-e437-4c2c-8e58-847b597ed430",
   "metadata": {},
   "source": [
    "# Matplotlib"
   ]
  },
  {
   "cell_type": "code",
   "execution_count": 77,
   "id": "de9d977d-58e8-4788-8b4a-8409e9a71fc9",
   "metadata": {},
   "outputs": [],
   "source": [
    "# importing the matplotlib library\n",
    "from matplotlib import pyplot as plt # standard industry name of plt when importing"
   ]
  },
  {
   "cell_type": "code",
   "execution_count": 79,
   "id": "d09d5a46-fa45-4210-81b4-845acd982103",
   "metadata": {},
   "outputs": [
    {
     "data": {
      "image/png": "[encoded data removed]",
      "text/plain": [
       "<Figure size 640x480 with 1 Axes>"
      ]
     },
     "metadata": {},
     "output_type": "display_data"
    }
   ],
   "source": [
    "#creating a line ploit using x & y coords\n",
    "\n",
    "x, y = [1600, 1700, 1800, 1900, 2000], [0.2, 0.5, 1.1, 2.2, 7.7]\n",
    "\n",
    "plt.plot(x, y) #creates the line\n",
    "\n",
    "plt.title('World population over time')\n",
    "plt.xlabel('Year')\n",
    "plt.ylabel('Population (billions)')\n",
    "\n",
    "plt.show()"
   ]
  },
  {
   "cell_type": "code",
   "execution_count": 81,
   "id": "12a5edcf-1775-40f1-bf7c-b5a49d653401",
   "metadata": {},
   "outputs": [
    {
     "data": {
      "image/png": "[encoded data removed]",
      "text/plain": [
       "<Figure size 640x480 with 1 Axes>"
      ]
     },
     "metadata": {},
     "output_type": "display_data"
    }
   ],
   "source": [
    "# creating a line plot with multiple lines\n",
    "\n",
    "x1, y1 = [1600, 1700, 1800, 1900, 2000], [0.2, 0.5, 1.1, 2.2, 7.7]\n",
    "x2, y2 = [1600, 1700, 1800, 1900, 2000], [1, 1, 2, 3, 4]\n",
    "\n",
    "plt.plot(x1, y1, 'rx-', label='Actual') #creates a solid red line with x dots\n",
    "plt.plot(x2, y2, 'bo--', label='Fake') #creates a blue dashed line with circle dots\n",
    "\n",
    "plt.title('World population over time')\n",
    "plt.xlabel('Year')\n",
    "plt.ylabel('Population (billions)')\n",
    "plt.legend() # shows labels in best corner\n",
    "\n",
    "plt.show()"
   ]
  },
  {
   "cell_type": "code",
   "execution_count": 83,
   "id": "84eb1146-9568-4f64-809b-452dc92e2901",
   "metadata": {},
   "outputs": [
    {
     "data": {
      "image/png": "[encoded data removed]",
      "text/plain": [
       "<Figure size 640x480 with 1 Axes>"
      ]
     },
     "metadata": {},
     "output_type": "display_data"
    }
   ],
   "source": [
    "# creating a bar plot using x and y coords\n",
    "\n",
    "num_people, categories = [4, 8, 3, 6, 2], ['comedy', 'action', 'thriller', 'romance', 'horror']\n",
    "\n",
    "plt.bar(categories, num_people)\n",
    "\n",
    "plt.title('Favourite movie category', fontsize=24)\n",
    "plt.xlabel('category')\n",
    "plt.ylabel('# of people')\n",
    "plt.xticks(fontname='Fantasy')\n",
    "plt.yticks(fontname='Fantasy')\n",
    "\n",
    "plt.show()"
   ]
  },
  {
   "cell_type": "code",
   "execution_count": 85,
   "id": "eab7dad4-18d8-48ef-962b-71a5ec804bcc",
   "metadata": {},
   "outputs": [
    {
     "data": {
      "image/png": "[encoded data removed]",
      "text/plain": [
       "<Figure size 1500x800 with 1 Axes>"
      ]
     },
     "metadata": {},
     "output_type": "display_data"
    }
   ],
   "source": [
    "# creating a box plot - showing height data of male-female\n",
    "\n",
    "males, females = [72, 68, 65, 77, 73, 71, 69], [60, 65, 68, 61, 63, 64]\n",
    "heights = [males, females]\n",
    "\n",
    "plt.figure(figsize=(15, 8)) # makes chart bigger\n",
    "plt.boxplot(heights) # takes in list of data, each box is its' own array, heights contains two lists\n",
    "\n",
    "plt.xticks([1, 2], ['Male', 'Female'])\n",
    "plt.title('height by gender')\n",
    "plt.ylabel('height(inches)')\n",
    "plt.xlabel('gender')\n",
    "\n",
    "plt.show()"
   ]
  },
  {
   "cell_type": "markdown",
   "id": "fca0e094-274b-46d3-aafe-f47e336f2223",
   "metadata": {},
   "source": [
    "**Find the reference to other graphs on pgs 288 - 294 in Python bootcamp book**"
   ]
  },
  {
   "cell_type": "markdown",
   "id": "0d919c71-bd5f-4c7d-8755-d3c27d803445",
   "metadata": {},
   "source": [
    "## Web scraping"
   ]
  },
  {
   "cell_type": "code",
   "execution_count": 91,
   "id": "62d08730-bc5a-489e-bb10-b8d45625270f",
   "metadata": {},
   "outputs": [],
   "source": [
    "#importing the beautiful soup and requests library\n",
    "from bs4 import BeautifulSoup\n",
    "import requests"
   ]
  },
  {
   "cell_type": "code",
   "execution_count": 17,
   "id": "e7dc5344-8758-4045-8cd8-6d50a7ad9ab6",
   "metadata": {},
   "outputs": [
    {
     "ename": "NameError",
     "evalue": "name 'requests' is not defined",
     "output_type": "error",
     "traceback": [
      "\u001b[0;31m---------------------------------------------------------------------------\u001b[0m",
      "\u001b[0;31mNameError\u001b[0m                                 Traceback (most recent call last)",
      "Cell \u001b[0;32mIn[17], line 2\u001b[0m\n\u001b[1;32m      1\u001b[0m \u001b[38;5;66;03m# performing a request and outputting the status code\u001b[39;00m\n\u001b[0;32m----> 2\u001b[0m page \u001b[38;5;241m=\u001b[39m requests\u001b[38;5;241m.\u001b[39mget(\u001b[38;5;124m'\u001b[39m\u001b[38;5;124mhttps://www.thepigsite.com\u001b[39m\u001b[38;5;124m'\u001b[39m)\n\u001b[1;32m      3\u001b[0m \u001b[38;5;28mprint\u001b[39m(page)\n",
      "\u001b[0;31mNameError\u001b[0m: name 'requests' is not defined"
     ]
    }
   ],
   "source": [
    "# performing a request and outputting the status code\n",
    "page = requests.get('https://sarabiatchinyi.com')\n",
    "print(page)"
   ]
  },
  {
   "cell_type": "code",
   "execution_count": 19,
   "id": "1daaa89a-1934-4206-a64e-b9871cfd7439",
   "metadata": {},
   "outputs": [
    {
     "ename": "NameError",
     "evalue": "name 'page' is not defined",
     "output_type": "error",
     "traceback": [
      "\u001b[0;31m---------------------------------------------------------------------------\u001b[0m",
      "\u001b[0;31mNameError\u001b[0m                                 Traceback (most recent call last)",
      "Cell \u001b[0;32mIn[19], line 2\u001b[0m\n\u001b[1;32m      1\u001b[0m \u001b[38;5;66;03m# outputting the request response content\u001b[39;00m\n\u001b[0;32m----> 2\u001b[0m \u001b[38;5;28mprint\u001b[39m(page\u001b[38;5;241m.\u001b[39mcontent)\n",
      "\u001b[0;31mNameError\u001b[0m: name 'page' is not defined"
     ]
    }
   ],
   "source": [
    "# outputting the request response content\n",
    "print(page.content)"
   ]
  },
  {
   "cell_type": "code",
   "execution_count": 21,
   "id": "14c57144-310d-4879-ad93-1ec3bb7ff012",
   "metadata": {},
   "outputs": [
    {
     "ename": "NameError",
     "evalue": "name 'BeautifulSoup' is not defined",
     "output_type": "error",
     "traceback": [
      "\u001b[0;31m---------------------------------------------------------------------------\u001b[0m",
      "\u001b[0;31mNameError\u001b[0m                                 Traceback (most recent call last)",
      "Cell \u001b[0;32mIn[21], line 2\u001b[0m\n\u001b[1;32m      1\u001b[0m \u001b[38;5;66;03m# turning the response into a beautiful soup object to extract data\u001b[39;00m\n\u001b[0;32m----> 2\u001b[0m soup \u001b[38;5;241m=\u001b[39m BeautifulSoup(page\u001b[38;5;241m.\u001b[39mcontent, \u001b[38;5;124m'\u001b[39m\u001b[38;5;124mhtml.parser\u001b[39m\u001b[38;5;124m'\u001b[39m)\n\u001b[1;32m      3\u001b[0m \u001b[38;5;28mprint\u001b[39m(soup\u001b[38;5;241m.\u001b[39mprettify())\n",
      "\u001b[0;31mNameError\u001b[0m: name 'BeautifulSoup' is not defined"
     ]
    }
   ],
   "source": [
    "# turning the response into a beautiful soup object to extract data\n",
    "soup = BeautifulSoup(page.content, 'html.parser')\n",
    "print(soup.prettify())"
   ]
  },
  {
   "cell_type": "code",
   "execution_count": 101,
   "id": "7179ba8d-edc9-4441-b626-e7dca370b60c",
   "metadata": {},
   "outputs": [
    {
     "name": "stdout",
     "output_type": "stream",
     "text": [
      "<b><legend class=\"mb-3\">Opt in to another list</legend></b>\n",
      "Opt in to another list\n"
     ]
    }
   ],
   "source": [
    "# using the find method to scrape the text within the first bold tag\n",
    "title = soup.find('b')\n",
    "print(title)\n",
    "print(title.get_text()) # extracts all text within element"
   ]
  },
  {
   "cell_type": "code",
   "execution_count": 103,
   "id": "65c88d92-a82c-4533-8f50-8afd6cdb7176",
   "metadata": {},
   "outputs": [
    {
     "name": "stdout",
     "output_type": "stream",
     "text": [
      "<span class=\"p-nickname vcard-username d-block\" itemprop=\"additionalName\">\n",
      "          Connor-SM\n",
      "\n",
      "        </span>\n",
      "\n",
      "          Connor-SM\n",
      "\n",
      "        \n"
     ]
    }
   ],
   "source": [
    "# finding an element by specific attribute key-values\n",
    "\n",
    "page = requests.get('https://github.com/Connor-SM')\n",
    "soup = BeautifulSoup(page.content, 'html.parser')\n",
    "\n",
    "username = soup.find('span', attrs={'class': 'vcard-username'}) # find first span with  this class\n",
    "\n",
    "print(username)  # will show that element has class of vcard-username among others\n",
    "print(username.get_text())"
   ]
  },
  {
   "cell_type": "code",
   "execution_count": 105,
   "id": "314bea59-ff7f-4287-969c-ee369a2b2991",
   "metadata": {},
   "outputs": [
    {
     "name": "stdout",
     "output_type": "stream",
     "text": [
      "<list_iterator object at 0x1343bc130>\n"
     ]
    }
   ],
   "source": [
    "# traversing through the DOM using beautiful soup - using the children attribute\n",
    "print(soup.children) # outputs an iterator object"
   ]
  },
  {
   "cell_type": "code",
   "execution_count": 107,
   "id": "c3bb6c0a-629e-44c4-ac66-648c8ce4e6e6",
   "metadata": {},
   "outputs": [
    {
     "name": "stdout",
     "output_type": "stream",
     "text": [
      "<class 'bs4.element.NavigableString'>\n",
      "<class 'bs4.element.Doctype'>\n",
      "<class 'bs4.element.NavigableString'>\n",
      "<class 'bs4.element.Tag'>\n",
      "<class 'bs4.element.NavigableString'>\n"
     ]
    }
   ],
   "source": [
    "# understanding the children within the soup object\n",
    "for child in list(soup.children):\n",
    "    print(type(child))"
   ]
  },
  {
   "cell_type": "code",
   "execution_count": 109,
   "id": "07773d3e-7627-41e9-baa1-ff15dac4a4a9",
   "metadata": {},
   "outputs": [
    {
     "name": "stdout",
     "output_type": "stream",
     "text": [
      "\n",
      "\n",
      " Start of new section\n",
      "\n",
      "\n"
     ]
    }
   ],
   "source": [
    "# accessing the .Tag object which holds the html - trying to access the title tag\n",
    "html = list(soup.children)[2]\n",
    "for section in html:\n",
    "    print('\\n\\n Start of new section')\n",
    "    print(section)"
   ]
  },
  {
   "cell_type": "code",
   "execution_count": 111,
   "id": "8c337a3f-7eef-48c9-b88c-767a065d9e8c",
   "metadata": {},
   "outputs": [
    {
     "ename": "AttributeError",
     "evalue": "'NavigableString' object has no attribute 'children'",
     "output_type": "error",
     "traceback": [
      "\u001b[0;31m---------------------------------------------------------------------------\u001b[0m",
      "\u001b[0;31mAttributeError\u001b[0m                            Traceback (most recent call last)",
      "Cell \u001b[0;32mIn[111], line 2\u001b[0m\n\u001b[1;32m      1\u001b[0m \u001b[38;5;66;03m# accessing the head element using the children attribute\u001b[39;00m\n\u001b[0;32m----> 2\u001b[0m head \u001b[38;5;241m=\u001b[39m \u001b[38;5;28mlist\u001b[39m(html\u001b[38;5;241m.\u001b[39mchildren)[\u001b[38;5;241m1\u001b[39m]\n\u001b[1;32m      3\u001b[0m \u001b[38;5;28;01mfor\u001b[39;00m item \u001b[38;5;129;01min\u001b[39;00m head:\n\u001b[1;32m      4\u001b[0m     \u001b[38;5;28mprint\u001b[39m(\u001b[38;5;124m'\u001b[39m\u001b[38;5;130;01m\\n\u001b[39;00m\u001b[38;5;130;01m\\n\u001b[39;00m\u001b[38;5;124m New Tag\u001b[39m\u001b[38;5;124m'\u001b[39m)\n",
      "File \u001b[0;32m/opt/anaconda3/lib/python3.11/site-packages/bs4/element.py:984\u001b[0m, in \u001b[0;36mNavigableString.__getattr__\u001b[0;34m(self, attr)\u001b[0m\n\u001b[1;32m    982\u001b[0m     \u001b[38;5;28;01mreturn\u001b[39;00m \u001b[38;5;28mself\u001b[39m\n\u001b[1;32m    983\u001b[0m \u001b[38;5;28;01melse\u001b[39;00m:\n\u001b[0;32m--> 984\u001b[0m     \u001b[38;5;28;01mraise\u001b[39;00m \u001b[38;5;167;01mAttributeError\u001b[39;00m(\n\u001b[1;32m    985\u001b[0m         \u001b[38;5;124m\"\u001b[39m\u001b[38;5;124m'\u001b[39m\u001b[38;5;132;01m%s\u001b[39;00m\u001b[38;5;124m'\u001b[39m\u001b[38;5;124m object has no attribute \u001b[39m\u001b[38;5;124m'\u001b[39m\u001b[38;5;132;01m%s\u001b[39;00m\u001b[38;5;124m'\u001b[39m\u001b[38;5;124m\"\u001b[39m \u001b[38;5;241m%\u001b[39m (\n\u001b[1;32m    986\u001b[0m             \u001b[38;5;28mself\u001b[39m\u001b[38;5;241m.\u001b[39m\u001b[38;5;18m__class__\u001b[39m\u001b[38;5;241m.\u001b[39m\u001b[38;5;18m__name__\u001b[39m, attr))\n",
      "\u001b[0;31mAttributeError\u001b[0m: 'NavigableString' object has no attribute 'children'"
     ]
    }
   ],
   "source": [
    "# accessing the head element using the children attribute\n",
    "head = list(html.children)[1]\n",
    "for item in head:\n",
    "    print('\\n\\n New Tag')\n",
    "    print(item)"
   ]
  },
  {
   "cell_type": "code",
   "execution_count": 113,
   "id": "ec8c3e06-a779-4251-b8fb-064fe96c06c9",
   "metadata": {},
   "outputs": [
    {
     "ename": "NameError",
     "evalue": "name 'head' is not defined",
     "output_type": "error",
     "traceback": [
      "\u001b[0;31m---------------------------------------------------------------------------\u001b[0m",
      "\u001b[0;31mNameError\u001b[0m                                 Traceback (most recent call last)",
      "Cell \u001b[0;32mIn[113], line 2\u001b[0m\n\u001b[1;32m      1\u001b[0m \u001b[38;5;66;03m# scraping the title text\u001b[39;00m\n\u001b[0;32m----> 2\u001b[0m title \u001b[38;5;241m=\u001b[39m \u001b[38;5;28mlist\u001b[39m(head)[\u001b[38;5;241m1\u001b[39m]\n\u001b[1;32m      3\u001b[0m \u001b[38;5;28mprint\u001b[39m(title\u001b[38;5;241m.\u001b[39mstring) \u001b[38;5;66;03m#.string is used to extract text as well\u001b[39;00m\n\u001b[1;32m      4\u001b[0m \u001b[38;5;28mprint\u001b[39m(\u001b[38;5;28mtype\u001b[39m(title\u001b[38;5;241m.\u001b[39mstring)) \u001b[38;5;66;03m# results in NavigableString\u001b[39;00m\n",
      "\u001b[0;31mNameError\u001b[0m: name 'head' is not defined"
     ]
    }
   ],
   "source": [
    "# scraping the title text\n",
    "title = list(head)[1]\n",
    "print(title.string) #.string is used to extract text as well\n",
    "print(type(title.string)) # results in NavigableString\n",
    "print(title.get_text())"
   ]
  },
  {
   "cell_type": "markdown",
   "id": "36c577ef-ddec-44cb-97c8-4b922e5b2a33",
   "metadata": {},
   "source": [
    "**Errors have appeared in the 2 above cells due to the url I have chosen, their is not an issue with the code**"
   ]
  },
  {
   "cell_type": "markdown",
   "id": "a34874e7-4f07-47fd-827f-d957401c30bb",
   "metadata": {},
   "source": [
    "# Friday Project - Website Analysis"
   ]
  },
  {
   "cell_type": "code",
   "execution_count": 117,
   "id": "21ef30e6-8ab7-498b-b5d0-285ce1f76df5",
   "metadata": {},
   "outputs": [],
   "source": [
    "# import all necessary libraries\n",
    "import requests\n",
    "import matplotlib.pyplot as plt\n",
    "from bs4 import BeautifulSoup\n",
    "from bs4.element import Comment\n",
    "from IPython.display import clear_output"
   ]
  },
  {
   "cell_type": "code",
   "execution_count": 23,
   "id": "11446691-fc06-4193-8ed7-b0f3cd041c6d",
   "metadata": {},
   "outputs": [
    {
     "name": "stdin",
     "output_type": "stream",
     "text": [
      "Would you like to scrape a website(y/n)? y\n"
     ]
    },
    {
     "name": "stdout",
     "output_type": "stream",
     "text": [
      "something went wrong, please try again.\n"
     ]
    },
    {
     "ename": "KeyboardInterrupt",
     "evalue": "Interrupted by user",
     "output_type": "error",
     "traceback": [
      "\u001b[0;31m---------------------------------------------------------------------------\u001b[0m",
      "\u001b[0;31mKeyboardInterrupt\u001b[0m                         Traceback (most recent call last)",
      "Cell \u001b[0;32mIn[23], line 67\u001b[0m\n\u001b[1;32m     64\u001b[0m     \u001b[38;5;28;01mreturn\u001b[39;00m word_count[ :\u001b[38;5;241m7\u001b[39m]\n\u001b[1;32m     66\u001b[0m \u001b[38;5;66;03m# main loop should ask if user wants to scrape, then what site to scrape\u001b[39;00m\n\u001b[0;32m---> 67\u001b[0m \u001b[38;5;28;01mwhile\u001b[39;00m \u001b[38;5;28minput\u001b[39m(\u001b[38;5;124m'\u001b[39m\u001b[38;5;124mWould you like to scrape a website(y/n)?\u001b[39m\u001b[38;5;124m'\u001b[39m) \u001b[38;5;241m==\u001b[39m \u001b[38;5;124m'\u001b[39m\u001b[38;5;124my\u001b[39m\u001b[38;5;124m'\u001b[39m:\n\u001b[1;32m     68\u001b[0m     \u001b[38;5;28;01mtry\u001b[39;00m:\n\u001b[1;32m     69\u001b[0m         clear_output()\n",
      "File \u001b[0;32m/opt/anaconda3/lib/python3.11/site-packages/ipykernel/kernelbase.py:1262\u001b[0m, in \u001b[0;36mKernel.raw_input\u001b[0;34m(self, prompt)\u001b[0m\n\u001b[1;32m   1260\u001b[0m     msg \u001b[38;5;241m=\u001b[39m \u001b[38;5;124m\"\u001b[39m\u001b[38;5;124mraw_input was called, but this frontend does not support input requests.\u001b[39m\u001b[38;5;124m\"\u001b[39m\n\u001b[1;32m   1261\u001b[0m     \u001b[38;5;28;01mraise\u001b[39;00m StdinNotImplementedError(msg)\n\u001b[0;32m-> 1262\u001b[0m \u001b[38;5;28;01mreturn\u001b[39;00m \u001b[38;5;28mself\u001b[39m\u001b[38;5;241m.\u001b[39m_input_request(\n\u001b[1;32m   1263\u001b[0m     \u001b[38;5;28mstr\u001b[39m(prompt),\n\u001b[1;32m   1264\u001b[0m     \u001b[38;5;28mself\u001b[39m\u001b[38;5;241m.\u001b[39m_parent_ident[\u001b[38;5;124m\"\u001b[39m\u001b[38;5;124mshell\u001b[39m\u001b[38;5;124m\"\u001b[39m],\n\u001b[1;32m   1265\u001b[0m     \u001b[38;5;28mself\u001b[39m\u001b[38;5;241m.\u001b[39mget_parent(\u001b[38;5;124m\"\u001b[39m\u001b[38;5;124mshell\u001b[39m\u001b[38;5;124m\"\u001b[39m),\n\u001b[1;32m   1266\u001b[0m     password\u001b[38;5;241m=\u001b[39m\u001b[38;5;28;01mFalse\u001b[39;00m,\n\u001b[1;32m   1267\u001b[0m )\n",
      "File \u001b[0;32m/opt/anaconda3/lib/python3.11/site-packages/ipykernel/kernelbase.py:1305\u001b[0m, in \u001b[0;36mKernel._input_request\u001b[0;34m(self, prompt, ident, parent, password)\u001b[0m\n\u001b[1;32m   1302\u001b[0m \u001b[38;5;28;01mexcept\u001b[39;00m \u001b[38;5;167;01mKeyboardInterrupt\u001b[39;00m:\n\u001b[1;32m   1303\u001b[0m     \u001b[38;5;66;03m# re-raise KeyboardInterrupt, to truncate traceback\u001b[39;00m\n\u001b[1;32m   1304\u001b[0m     msg \u001b[38;5;241m=\u001b[39m \u001b[38;5;124m\"\u001b[39m\u001b[38;5;124mInterrupted by user\u001b[39m\u001b[38;5;124m\"\u001b[39m\n\u001b[0;32m-> 1305\u001b[0m     \u001b[38;5;28;01mraise\u001b[39;00m \u001b[38;5;167;01mKeyboardInterrupt\u001b[39;00m(msg) \u001b[38;5;28;01mfrom\u001b[39;00m \u001b[38;5;28;01mNone\u001b[39;00m\n\u001b[1;32m   1306\u001b[0m \u001b[38;5;28;01mexcept\u001b[39;00m \u001b[38;5;167;01mException\u001b[39;00m:\n\u001b[1;32m   1307\u001b[0m     \u001b[38;5;28mself\u001b[39m\u001b[38;5;241m.\u001b[39mlog\u001b[38;5;241m.\u001b[39mwarning(\u001b[38;5;124m\"\u001b[39m\u001b[38;5;124mInvalid Message:\u001b[39m\u001b[38;5;124m\"\u001b[39m, exc_info\u001b[38;5;241m=\u001b[39m\u001b[38;5;28;01mTrue\u001b[39;00m)\n",
      "\u001b[0;31mKeyboardInterrupt\u001b[0m: Interrupted by user"
     ]
    }
   ],
   "source": [
    "# graph results of top 7 words\n",
    "def displayResults(words, site):\n",
    "    count = [item[1] for item in words][ : : -1] # reverses order\n",
    "    word = [item[0] for item in words][ : : -1] # gets word out of reverses order\n",
    "\n",
    "    plt.figure( figsize=(20, 10)) # define how large the figure appears\n",
    "\n",
    "    plt.bar(word, count)\n",
    "\n",
    "    plt.title('Analysing top words from: {}...'.format(site[ :50]), fontname='Sans Serif', fontsize=24)\n",
    "    plt.xlabel('Words', fontsize=24)\n",
    "    plt.ylabel('# of appearances', fontsize=24)\n",
    "    plt.xticks(fontname='Sans Serif', fontsize=20)\n",
    "    plt.yticks(fontname='Sans Serif', fontsize=20)\n",
    "\n",
    "    plt.show()\n",
    "    \n",
    "# filter article words and hidden characters\n",
    "def filterWaste(word):\n",
    "    bad_words = ('the', 'a', 'in', 'of', 'to', 'you', 'and', '\\xa0', 'at', 'on', 'for', 'from', 'is', 'that', 'his',\n",
    "                 'are', 'be', '-', 'as', '&', 'they', 'with', 'how', 'was', 'her', 'him', 'i', 'has', '|')\n",
    "\n",
    "    if word.lower() in bad_words:\n",
    "        return False\n",
    "    else:\n",
    "        return True\n",
    "        \n",
    "# filter out all elements that do not contain text that appears on site\n",
    "def filterTags(element):\n",
    "    if element.parent.name in ['style', 'script', 'head', 'title', 'meta', '[document]']:\n",
    "        return False\n",
    "\n",
    "    if isinstance(element, Comment):\n",
    "        return False\n",
    "\n",
    "    return True\n",
    "    \n",
    "# request site and return top 7 most used words\n",
    "def scrape(site):\n",
    "    page = requests.get(site)\n",
    "\n",
    "    soup = BeautifulSoup(page.content, 'html.parser')\n",
    "\n",
    "    text = soup.find_all(text=True) # will get all text within the document\n",
    "\n",
    "    visible_text = filter(filterTags, text)\n",
    "\n",
    "    word_count = {}\n",
    "\n",
    "    for text in visible_text:\n",
    "        words = text.replace('\\n', '').replace('\\t', '').split('') # replace all hidden chars\n",
    "\n",
    "        words = list(filter(filterWaste, words))\n",
    "\n",
    "        for word  in words:\n",
    "            if word !='': # if it doesn't equal an empty string\n",
    "                if word in word_count:\n",
    "                    word_count[word] += 1\n",
    "                else:\n",
    "                    word_count[word] = 1\n",
    "\n",
    "    word_count = sorted(word_count.items(), key=lambda kv: kv[1], reverse=True) # sort on value\n",
    "\n",
    "    return word_count[ :7]\n",
    "\n",
    "# main loop should ask if user wants to scrape, then what site to scrape\n",
    "while input('Would you like to scrape a website(y/n)?') == 'y':\n",
    "    try:\n",
    "        clear_output()\n",
    "        \n",
    "        site = input('enter a website to analyse: ')\n",
    "\n",
    "        top_words = scrape(site)\n",
    "\n",
    "        top_word = top_words[0] # tuple of (word, count)\n",
    "\n",
    "        print('The top word is: {}'.format(top_word[0]))\n",
    "\n",
    "        displayResults(top_words, site) # call to graph\n",
    "    except:\n",
    "        print('something went wrong, please try again.')\n",
    "\n",
    "print('Thanks for analysing! Come back again soon')"
   ]
  },
  {
   "cell_type": "code",
   "execution_count": null,
   "id": "f3edf706-3b7d-4fd9-9bb1-a0a5f2a9908c",
   "metadata": {},
   "outputs": [
    {
     "name": "stdin",
     "output_type": "stream",
     "text": [
      "Enter a website to analyse:  https://sarabiatchinyi.com/\n"
     ]
    },
    {
     "name": "stdout",
     "output_type": "stream",
     "text": [
      "The top word is: design\n"
     ]
    },
    {
     "name": "stderr",
     "output_type": "stream",
     "text": [
      "/var/folders/vz/htssk7r12rv1ympcnkvh0w_40000gn/T/ipykernel_9776/3632641314.py:42: DeprecationWarning: The 'text' argument to find()-type methods is deprecated. Use 'string' instead.\n",
      "  text = soup.find_all(text=True)  # will get all text within the document\n"
     ]
    },
    {
     "data": {
      "image/png": "[encoded data removed]",
      "text/plain": [
       "<Figure size 2000x1000 with 1 Axes>"
      ]
     },
     "metadata": {},
     "output_type": "display_data"
    }
   ],
   "source": [
    "import requests\n",
    "from bs4 import BeautifulSoup\n",
    "from bs4.element import Comment\n",
    "import matplotlib.pyplot as plt\n",
    "\n",
    "# graph results of top 7 words\n",
    "def displayResults(words, site):\n",
    "    count = [item[1] for item in words][::-1]  # reverses order\n",
    "    word = [item[0] for item in words][::-1]   # gets word out of reverse order\n",
    "\n",
    "    plt.figure(figsize=(20, 10))  # define how large the figure appears\n",
    "    plt.bar(word, count)\n",
    "\n",
    "    plt.title(f'Analysing top words from: {site[:50]}...', fontname='Sans Serif', fontsize=24)\n",
    "    plt.xlabel('Words', fontsize=24)\n",
    "    plt.ylabel('# of appearances', fontsize=24)\n",
    "    plt.xticks(fontname='Sans Serif', fontsize=20)\n",
    "    plt.yticks(fontname='Sans Serif', fontsize=20)\n",
    "    \n",
    "    plt.show()\n",
    "\n",
    "# filter article words and hidden characters\n",
    "def filterWaste(word):\n",
    "    bad_words = ('the', 'a', 'in', 'of', 'to', 'you', 'and', '\\xa0', 'at', 'on', 'for', 'from', 'is', 'that', 'his',\n",
    "                 'are', 'be', '-', 'as', '&', 'they', 'with', 'how', 'was', 'her', 'him', 'i', 'has', '|', ';')\n",
    "\n",
    "    return word.lower() not in bad_words\n",
    "\n",
    "# filter out all elements that do not contain text that appears on site\n",
    "def filterTags(element):\n",
    "    if element.parent.name in ['style', 'script', 'head', 'title', 'meta', '[document]']:\n",
    "        return False\n",
    "    if isinstance(element, Comment):\n",
    "        return False\n",
    "    return True\n",
    "\n",
    "# request site and return top 7 most used words\n",
    "def scrape(site):\n",
    "    page = requests.get(site)\n",
    "    soup = BeautifulSoup(page.content, 'html.parser')\n",
    "\n",
    "    text = soup.find_all(text=True)  # will get all text within the document\n",
    "    visible_text = filter(filterTags, text)\n",
    "\n",
    "    word_count = {}\n",
    "    for text in visible_text:\n",
    "        words = text.replace('\\n', '').replace('\\t', '').split(' ')  # replace all hidden chars and split by space\n",
    "        words = list(filter(filterWaste, words))\n",
    "\n",
    "        for word in words:\n",
    "            if word:  # if it doesn't equal an empty string\n",
    "                word_count[word] = word_count.get(word, 0) + 1\n",
    "\n",
    "    word_count = sorted(word_count.items(), key=lambda kv: kv[1], reverse=True)  # sort on value\n",
    "    return word_count[:7]\n",
    "\n",
    "# main loop should ask if user wants to scrape, then what site to scrape\n",
    "while input('Would you like to scrape a website (y/n)?') == 'y':\n",
    "    try:\n",
    "        from IPython.display import clear_output  # this is only needed if you're using Jupyter notebooks\n",
    "        clear_output()\n",
    "\n",
    "        site = input('Enter a website to analyse: ')\n",
    "        top_words = scrape(site)\n",
    "        top_word = top_words[0]  # tuple of (word, count)\n",
    "\n",
    "        print(f'The top word is: {top_word[0]}')\n",
    "        displayResults(top_words, site)  # call to graph\n",
    "    except Exception as e:\n",
    "        print(f'Something went wrong: {e}')\n",
    "\n",
    "print('Thanks for analysing! Come back again soon.')"
   ]
  }
 ],
 "metadata": {
  "kernelspec": {
   "display_name": "Python 3 (ipykernel)",
   "language": "python",
   "name": "python3"
  },
  "language_info": {
   "codemirror_mode": {
    "name": "ipython",
    "version": 3
   },
   "file_extension": ".py",
   "mimetype": "text/x-python",
   "name": "python",
   "nbconvert_exporter": "python",
   "pygments_lexer": "ipython3",
   "version": "3.11.7"
  }
 },
 "nbformat": 4,
 "nbformat_minor": 5
}
